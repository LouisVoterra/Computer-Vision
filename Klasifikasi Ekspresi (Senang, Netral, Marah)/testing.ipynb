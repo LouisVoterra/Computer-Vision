{
 "cells": [
  {
   "cell_type": "code",
   "execution_count": null,
   "id": "424bc4b5",
   "metadata": {},
   "outputs": [
    {
     "name": "stderr",
     "output_type": "stream",
     "text": [
      "WARNING:absl:Compiled the loaded model, but the compiled metrics have yet to be built. `model.compile_metrics` will be empty until you train or evaluate the model.\n"
     ]
    }
   ],
   "source": [
    "import cv2\n",
    "from tensorflow.keras.models import load_model\n",
    "import numpy as np\n",
    "\n",
    "model = load_model(\"emotion_model.h5\")\n",
    "emotion_labels = ['Angry', 'Disgust', 'Fear', 'Happy', 'Sad', 'Surprise', 'Neutral']\n",
    "\n",
    "face_cascade = cv2.CascadeClassifier(cv2.data.haarcascades + \"haarcascade_frontalface_default.xml\")\n",
    "cap = cv2.VideoCapture(0)\n",
    "\n",
    "last_face_position = None\n",
    "frame_count = 0\n",
    "\n",
    "while True:\n",
    "    ret, frame = cap.read()\n",
    "    if not ret: break\n",
    "\n",
    "    gray = cv2.cvtColor(frame, cv2.COLOR_BGR2GRAY)\n",
    "    display_frame = frame.copy()\n",
    "\n",
    "    # Hanya deteksi ulang setiap 5 frame untuk stabilitas\n",
    "    if frame_count % 5 == 0 or last_face_position is None:\n",
    "        faces = face_cascade.detectMultiScale(gray, scaleFactor=1.2, minNeighbors=6)\n",
    "        if len(faces) > 0:\n",
    "            # Ambil wajah terbesar (terdekat ke kamera)\n",
    "            faces = sorted(faces, key=lambda f: f[2] * f[3], reverse=True)\n",
    "            last_face_position = faces[0]\n",
    "\n",
    "    frame_count += 1\n",
    "\n",
    "    if last_face_position is not None:\n",
    "        (x, y, w, h) = last_face_position\n",
    "        roi = gray[y:y+h, x:x+w]\n",
    "        try:\n",
    "            roi = cv2.resize(roi, (48, 48))\n",
    "            roi = roi.astype('float32') / 255.0\n",
    "            roi = np.expand_dims(roi, axis=0)\n",
    "            roi = np.expand_dims(roi, axis=-1)\n",
    "\n",
    "            preds = model.predict(roi, verbose=0)[0]\n",
    "            label = emotion_labels[np.argmax(preds)]\n",
    "            confidence = np.max(preds)\n",
    "\n",
    "            cv2.rectangle(display_frame, (x, y), (x + w, y + h), (0, 255, 0), 2)\n",
    "            cv2.putText(display_frame, f\"{label} ({confidence:.2f})\", (x, y - 10),\n",
    "                        cv2.FONT_HERSHEY_SIMPLEX, 0.9, (0, 255, 0), 2)\n",
    "        except:\n",
    "            pass\n",
    "\n",
    "    cv2.imshow(\"Ekspresi Wajah\", display_frame)\n",
    "    if cv2.waitKey(1) & 0xFF == ord('q'):\n",
    "        break\n",
    "\n",
    "cap.release()\n",
    "cv2.destroyAllWindows()\n"
   ]
  }
 ],
 "metadata": {
  "kernelspec": {
   "display_name": "Python 3",
   "language": "python",
   "name": "python3"
  },
  "language_info": {
   "codemirror_mode": {
    "name": "ipython",
    "version": 3
   },
   "file_extension": ".py",
   "mimetype": "text/x-python",
   "name": "python",
   "nbconvert_exporter": "python",
   "pygments_lexer": "ipython3",
   "version": "3.10.11"
  }
 },
 "nbformat": 4,
 "nbformat_minor": 5
}
