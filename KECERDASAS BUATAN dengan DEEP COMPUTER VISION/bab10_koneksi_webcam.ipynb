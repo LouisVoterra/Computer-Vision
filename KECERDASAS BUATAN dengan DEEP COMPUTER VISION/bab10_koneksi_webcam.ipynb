{
 "cells": [
  {
   "cell_type": "markdown",
   "id": "d436924d",
   "metadata": {},
   "source": [
    "Import Library"
   ]
  },
  {
   "cell_type": "code",
   "execution_count": null,
   "id": "b190f8b6",
   "metadata": {},
   "outputs": [
    {
     "ename": "error",
     "evalue": "OpenCV(4.11.0) D:\\a\\opencv-python\\opencv-python\\opencv\\modules\\imgproc\\src\\color.cpp:199: error: (-215:Assertion failed) !_src.empty() in function 'cv::cvtColor'\n",
     "output_type": "error",
     "traceback": [
      "\u001b[1;31m---------------------------------------------------------------------------\u001b[0m",
      "\u001b[1;31merror\u001b[0m                                     Traceback (most recent call last)",
      "Cell \u001b[1;32mIn[2], line 11\u001b[0m\n\u001b[0;32m      8\u001b[0m ret, frame \u001b[38;5;241m=\u001b[39m video\u001b[38;5;241m.\u001b[39mread() \u001b[38;5;66;03m#read untuk mengambil gambar dari webcam\u001b[39;00m\n\u001b[0;32m      9\u001b[0m \u001b[38;5;66;03m# cv2.imshow('videoku', frame) #menampilkan gambar dari webcam\u001b[39;00m\n\u001b[1;32m---> 11\u001b[0m frame_rgb \u001b[38;5;241m=\u001b[39m \u001b[43mcv2\u001b[49m\u001b[38;5;241;43m.\u001b[39;49m\u001b[43mcvtColor\u001b[49m\u001b[43m(\u001b[49m\u001b[43mframe\u001b[49m\u001b[43m,\u001b[49m\u001b[43m \u001b[49m\u001b[43mcv2\u001b[49m\u001b[38;5;241;43m.\u001b[39;49m\u001b[43mCOLOR_BGR2RGB\u001b[49m\u001b[43m)\u001b[49m\n\u001b[0;32m     13\u001b[0m \u001b[38;5;66;03m# Tampilkan\u001b[39;00m\n\u001b[0;32m     14\u001b[0m plt\u001b[38;5;241m.\u001b[39mimshow(frame_rgb)\n",
      "\u001b[1;31merror\u001b[0m: OpenCV(4.11.0) D:\\a\\opencv-python\\opencv-python\\opencv\\modules\\imgproc\\src\\color.cpp:199: error: (-215:Assertion failed) !_src.empty() in function 'cv::cvtColor'\n"
     ]
    }
   ],
   "source": [
    "import cv2\n",
    "video = cv2.VideoCapture(0) #parameter 0 untuk webcam bawaan laptop \n",
    "\n",
    "while True:\n",
    "\n",
    "    ret, frame = video.read() #read untuk mengambil gambar dari webcam\n",
    "    cv2.imshow('videoku', frame) #menampilkan gambar dari webcam\n",
    "\n",
    "    if cv2.waitKey(1) & 0xFF == ord('q'): #menunggu input dari keyboard, jika 'q' maka keluar\n",
    "        break\n",
    "video.release() #melepaskan video   \n",
    "cv2.destroyAllWindows() #menutup semua jendela yang terbuka"
   ]
  }
 ],
 "metadata": {
  "kernelspec": {
   "display_name": "Python 3",
   "language": "python",
   "name": "python3"
  },
  "language_info": {
   "codemirror_mode": {
    "name": "ipython",
    "version": 3
   },
   "file_extension": ".py",
   "mimetype": "text/x-python",
   "name": "python",
   "nbconvert_exporter": "python",
   "pygments_lexer": "ipython3",
   "version": "3.10.11"
  }
 },
 "nbformat": 4,
 "nbformat_minor": 5
}
