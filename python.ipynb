{
 "cells": [
  {
   "cell_type": "markdown",
   "id": "a75dd9f7",
   "metadata": {},
   "source": [
    "Python Fundamental"
   ]
  },
  {
   "cell_type": "code",
   "execution_count": null,
   "id": "2b61310b",
   "metadata": {},
   "outputs": [],
   "source": [
    "#komentar\n",
    "\"\"\"\n",
    "This script is a simple example of a Python script that uses the argparse library to handle command-line arguments.\n",
    "It includes a function to print a greeting message and another to print the current date and time.\n",
    "\"\"\""
   ]
  },
  {
   "cell_type": "code",
   "execution_count": 4,
   "id": "c06eac63",
   "metadata": {},
   "outputs": [
    {
     "name": "stdout",
     "output_type": "stream",
     "text": [
      "78 5.46 5 hello True\n"
     ]
    },
    {
     "data": {
      "text/plain": [
       "(int, float, str, str, bool)"
      ]
     },
     "execution_count": 4,
     "metadata": {},
     "output_type": "execute_result"
    }
   ],
   "source": [
    "a = 78 #int\n",
    "b = 5.46 #float\n",
    "c = '5' #string\n",
    "d = 'hello' #string\n",
    "e = True #boolean\n",
    "\n",
    "print(a, b, c, d, e)\n",
    "\n",
    "type(a), type(b), type(c), type(d), type(e) #cek tipe data"
   ]
  },
  {
   "cell_type": "code",
   "execution_count": 7,
   "id": "a170313b",
   "metadata": {},
   "outputs": [
    {
     "name": "stdout",
     "output_type": "stream",
     "text": [
      "78.0 5 78\n"
     ]
    },
    {
     "data": {
      "text/plain": [
       "(float, int, str)"
      ]
     },
     "execution_count": 7,
     "metadata": {},
     "output_type": "execute_result"
    }
   ],
   "source": [
    "#data casting\n",
    "f = float(a) #int to float\n",
    "g = int(b) #float to int\n",
    "h = str(a) #int to string\n",
    "\n",
    "print(f, g, h)\n",
    "type(f), type(g), type(h) #cek tipe data\n"
   ]
  },
  {
   "cell_type": "code",
   "execution_count": 8,
   "id": "0c3162b9",
   "metadata": {},
   "outputs": [
    {
     "data": {
      "text/plain": [
       "(list, list, list)"
      ]
     },
     "execution_count": 8,
     "metadata": {},
     "output_type": "execute_result"
    }
   ],
   "source": [
    "lis1 = [1, 2, 3, 4, 5] #list\n",
    "lis2 = ['mawar', 'melati', 'tulip'] #list str\n",
    "list3 = [1, 2.5, 'mawar', True] #list campuran\n",
    "type(lis1), type(lis2), type(list3) #cek tipe data\n"
   ]
  },
  {
   "cell_type": "code",
   "execution_count": null,
   "id": "97be44f9",
   "metadata": {},
   "outputs": [
    {
     "name": "stdout",
     "output_type": "stream",
     "text": [
      "nama :  DevoSenju\n",
      "nts :  100.0\n",
      "nas :  100.0\n",
      "nilai akhir :  100.0\n",
      "status :  lulus\n",
      "grade :  a\n"
     ]
    }
   ],
   "source": [
    "#buatlah project untuk memasukkan nilai mata kuliah x dengan bobot penilaian sebagai berikut :\n",
    "#Tugas 20% quiz 30% uts 50% = 40%\n",
    "#tugas 15% quiz 20% project 25% uts 40% 60%\n",
    "# kala nilai diatas 55 , status lulus, dibawah 55 tidak lulus, grade c, grade bc diatas 60, b diatas 66, 73 diatas AB 81 diatas A\n",
    "\n",
    "\n",
    "#nilai NTS\n",
    "nama = input('masukkan nama : ')\n",
    "tugas_nts = float(input('masukkan nilai tugas : '))\n",
    "quiz_nts = float(input('masukkan nilai quiz : '))\n",
    "uts_nts = float(input('masukkan nilai uts : '))\n",
    "\n",
    "nts = (tugas_nts * 0.2) + (quiz_nts * 0.3) + (uts_nts * 0.5) #nilai NTS\n",
    "\n",
    "#nilai NTA\n",
    "tugas_nas = float(input('masukkan nilai tugas : '))\n",
    "quiz_nas = float(input('masukkan nilai quiz : '))\n",
    "project_nas = float(input('masukkan nilai project : '))\n",
    "uas_nas = float(input('masukkan nilai uts : '))\n",
    "\n",
    "nas = (tugas_nas * 0.15) + (quiz_nas * 0.2) + (project_nas * 0.25) + (uas_nas * 0.4) #nilai NTA\n",
    "\n",
    "na = nts * 0.4 + nas * 0.6 #nilai akhir\n",
    "\n",
    "if(na >= 55 and na < 60):\n",
    "    status = 'lulus'\n",
    "    grade = 'C'\n",
    "elif(na >= 60 and na < 66):\n",
    "    status = 'lulus'\n",
    "    grade = 'BC'\n",
    "elif(na >= 66 and na < 73):\n",
    "    status = 'lulus'\n",
    "    grade = 'B'\n",
    "elif(na >= 73 and na < 81):\n",
    "    status = 'lulus'\n",
    "    grade = 'AB'\n",
    "elif(na >= 81 and na <= 100):\n",
    "    status = 'lulus'\n",
    "    grade = 'A'\n",
    "elif(na <= 40 and na < 55):\n",
    "    status = 'tidak lulus'\n",
    "    grade = 'D'\n",
    "else:\n",
    "    status = 'tidak lulus'\n",
    "    grade = 'E'\n",
    "\n",
    "print('nama : ', nama)\n",
    "print('nts : ', nts)\n",
    "print('nas : ', nas)\n",
    "print('nilai akhir : ', na)\n",
    "print('status : ', status)\n",
    "print('grade : ', grade)\n"
   ]
  }
 ],
 "metadata": {
  "kernelspec": {
   "display_name": "Python 3",
   "language": "python",
   "name": "python3"
  },
  "language_info": {
   "codemirror_mode": {
    "name": "ipython",
    "version": 3
   },
   "file_extension": ".py",
   "mimetype": "text/x-python",
   "name": "python",
   "nbconvert_exporter": "python",
   "pygments_lexer": "ipython3",
   "version": "3.10.11"
  }
 },
 "nbformat": 4,
 "nbformat_minor": 5
}
